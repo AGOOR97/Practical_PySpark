{
 "cells": [
  {
   "cell_type": "markdown",
   "id": "2568221b",
   "metadata": {},
   "source": [
    "### Import the required libraries then Create SparkContext"
   ]
  },
  {
   "cell_type": "code",
   "execution_count": 1,
   "id": "65e6978c",
   "metadata": {},
   "outputs": [],
   "source": [
    "import findspark\n",
    "findspark.init()"
   ]
  },
  {
   "cell_type": "code",
   "execution_count": 2,
   "id": "1992c417",
   "metadata": {},
   "outputs": [],
   "source": [
    "from pyspark.sql import SparkSession\n",
    "spark = SparkSession.builder.getOrCreate()\n",
    "sc = spark.sparkContext"
   ]
  },
  {
   "cell_type": "markdown",
   "id": "e9a7d9c6",
   "metadata": {},
   "source": [
    "### Create and display an RDD from the following list"
   ]
  },
  {
   "cell_type": "code",
   "execution_count": 3,
   "id": "409084ef",
   "metadata": {},
   "outputs": [],
   "source": [
    "lst = [('JK', 22), ('V', 24), ('Jimin',24), ('RM', 25), ('J-Hope', 25), ('Suga', 26), ('Jin', 27)]"
   ]
  },
  {
   "cell_type": "code",
   "execution_count": 4,
   "id": "5d563995",
   "metadata": {},
   "outputs": [
    {
     "data": {
      "text/plain": [
       "[('JK', 22),\n",
       " ('V', 24),\n",
       " ('Jimin', 24),\n",
       " ('RM', 25),\n",
       " ('J-Hope', 25),\n",
       " ('Suga', 26),\n",
       " ('Jin', 27)]"
      ]
     },
     "execution_count": 4,
     "metadata": {},
     "output_type": "execute_result"
    }
   ],
   "source": [
    "sc.parallelize(lst).collect()"
   ]
  },
  {
   "cell_type": "markdown",
   "id": "feedfb38",
   "metadata": {},
   "source": [
    "### Read sample1.txt file into RDD and displaying the first 4 elements"
   ]
  },
  {
   "cell_type": "code",
   "execution_count": 5,
   "id": "447c59ec",
   "metadata": {},
   "outputs": [],
   "source": [
    "rdd_file = sc.textFile('sample1.txt')"
   ]
  },
  {
   "cell_type": "code",
   "execution_count": 6,
   "id": "4a52ed50",
   "metadata": {},
   "outputs": [
    {
     "data": {
      "text/plain": [
       "['Utilitatis causa amicitia est quaesita.',\n",
       " 'Lorem ipsum dolor sit amet, consectetur adipiscing elit. ',\n",
       " 'Collatio igitur ista te nihil iuvat. Honesta oratio, Socratica, Platonis etiam. Primum in nostrane potestate est, quid meminerimus? ',\n",
       " 'Duo Reges: constructio interrete. ']"
      ]
     },
     "execution_count": 6,
     "metadata": {},
     "output_type": "execute_result"
    }
   ],
   "source": [
    "rdd_file.take(4)"
   ]
  },
  {
   "cell_type": "markdown",
   "id": "e55ae192",
   "metadata": {},
   "source": [
    "### Count the total number of rows in RDD"
   ]
  },
  {
   "cell_type": "code",
   "execution_count": 7,
   "id": "04679d78",
   "metadata": {},
   "outputs": [
    {
     "data": {
      "text/plain": [
       "7"
      ]
     },
     "execution_count": 7,
     "metadata": {},
     "output_type": "execute_result"
    }
   ],
   "source": [
    "rdd_file.count()"
   ]
  },
  {
   "cell_type": "markdown",
   "id": "35652e93",
   "metadata": {},
   "source": [
    "### Create a function to convert the data into lower case and splitting it"
   ]
  },
  {
   "cell_type": "code",
   "execution_count": 8,
   "id": "b13ae5c1",
   "metadata": {},
   "outputs": [],
   "source": [
    "def lower_and_split(line):\n",
    "    ''' this function tries to lower the text and split the words acc. to spaces\n",
    "    '''\n",
    "    line = line.lower().split()\n",
    "    return line"
   ]
  },
  {
   "cell_type": "code",
   "execution_count": 9,
   "id": "55ffbae5",
   "metadata": {
    "scrolled": true
   },
   "outputs": [
    {
     "data": {
      "text/plain": [
       "[['utilitatis', 'causa', 'amicitia', 'est', 'quaesita.'],\n",
       " ['lorem',\n",
       "  'ipsum',\n",
       "  'dolor',\n",
       "  'sit',\n",
       "  'amet,',\n",
       "  'consectetur',\n",
       "  'adipiscing',\n",
       "  'elit.'],\n",
       " ['collatio',\n",
       "  'igitur',\n",
       "  'ista',\n",
       "  'te',\n",
       "  'nihil',\n",
       "  'iuvat.',\n",
       "  'honesta',\n",
       "  'oratio,',\n",
       "  'socratica,',\n",
       "  'platonis',\n",
       "  'etiam.',\n",
       "  'primum',\n",
       "  'in',\n",
       "  'nostrane',\n",
       "  'potestate',\n",
       "  'est,',\n",
       "  'quid',\n",
       "  'meminerimus?'],\n",
       " ['duo', 'reges:', 'constructio', 'interrete.'],\n",
       " ['quid,',\n",
       "  'si',\n",
       "  'etiam',\n",
       "  'iucunda',\n",
       "  'memoria',\n",
       "  'est',\n",
       "  'praeteritorum',\n",
       "  'malorum?',\n",
       "  'si',\n",
       "  'quidem,',\n",
       "  'inquit,',\n",
       "  'tollerem,',\n",
       "  'sed',\n",
       "  'relinquo.',\n",
       "  'an',\n",
       "  'nisi',\n",
       "  'populari',\n",
       "  'fama?'],\n",
       " [],\n",
       " ['quamquam',\n",
       "  'id',\n",
       "  'quidem',\n",
       "  'licebit',\n",
       "  'iis',\n",
       "  'existimare,',\n",
       "  'qui',\n",
       "  'legerint.',\n",
       "  'summum',\n",
       "  'a',\n",
       "  'vobis',\n",
       "  'bonum',\n",
       "  'voluptas',\n",
       "  'dicitur.',\n",
       "  'at',\n",
       "  'hoc',\n",
       "  'in',\n",
       "  'eo',\n",
       "  'm.',\n",
       "  'refert',\n",
       "  'tamen,',\n",
       "  'quo',\n",
       "  'modo.',\n",
       "  'quid',\n",
       "  'sequatur,',\n",
       "  'quid',\n",
       "  'repugnet,',\n",
       "  'vident.',\n",
       "  'iam',\n",
       "  'id',\n",
       "  'ipsum',\n",
       "  'absurdum,',\n",
       "  'maximum',\n",
       "  'malum',\n",
       "  'neglegi.']]"
      ]
     },
     "execution_count": 9,
     "metadata": {},
     "output_type": "execute_result"
    }
   ],
   "source": [
    "rdd_lower_split = rdd_file.map(lower_and_split)\n",
    "rdd_lower_split.collect()"
   ]
  },
  {
   "cell_type": "markdown",
   "id": "4cfa29af",
   "metadata": {},
   "source": [
    "### Filter the stopwords from the previous text"
   ]
  },
  {
   "cell_type": "code",
   "execution_count": 10,
   "id": "97c1e731",
   "metadata": {},
   "outputs": [],
   "source": [
    "stopwords = ['a','all','the','as','is','am','an','and', 'be','been','from','had','I','I’d','why','with']\n",
    "# Hint: you may need use flatMap"
   ]
  },
  {
   "cell_type": "code",
   "execution_count": 11,
   "id": "b0f854fd",
   "metadata": {
    "scrolled": true
   },
   "outputs": [
    {
     "data": {
      "text/plain": [
       "['utilitatis',\n",
       " 'causa',\n",
       " 'amicitia',\n",
       " 'est',\n",
       " 'quaesita.',\n",
       " 'lorem',\n",
       " 'ipsum',\n",
       " 'dolor',\n",
       " 'sit',\n",
       " 'amet,',\n",
       " 'consectetur',\n",
       " 'adipiscing',\n",
       " 'elit.',\n",
       " 'collatio',\n",
       " 'igitur',\n",
       " 'ista',\n",
       " 'te',\n",
       " 'nihil',\n",
       " 'iuvat.',\n",
       " 'honesta',\n",
       " 'oratio,',\n",
       " 'socratica,',\n",
       " 'platonis',\n",
       " 'etiam.',\n",
       " 'primum',\n",
       " 'in',\n",
       " 'nostrane',\n",
       " 'potestate',\n",
       " 'est,',\n",
       " 'quid',\n",
       " 'meminerimus?',\n",
       " 'duo',\n",
       " 'reges:',\n",
       " 'constructio',\n",
       " 'interrete.',\n",
       " 'quid,',\n",
       " 'si',\n",
       " 'etiam',\n",
       " 'iucunda',\n",
       " 'memoria',\n",
       " 'est',\n",
       " 'praeteritorum',\n",
       " 'malorum?',\n",
       " 'si',\n",
       " 'quidem,',\n",
       " 'inquit,',\n",
       " 'tollerem,',\n",
       " 'sed',\n",
       " 'relinquo.',\n",
       " 'nisi',\n",
       " 'populari',\n",
       " 'fama?',\n",
       " 'quamquam',\n",
       " 'id',\n",
       " 'quidem',\n",
       " 'licebit',\n",
       " 'iis',\n",
       " 'existimare,',\n",
       " 'qui',\n",
       " 'legerint.',\n",
       " 'summum',\n",
       " 'vobis',\n",
       " 'bonum',\n",
       " 'voluptas',\n",
       " 'dicitur.',\n",
       " 'at',\n",
       " 'hoc',\n",
       " 'in',\n",
       " 'eo',\n",
       " 'm.',\n",
       " 'refert',\n",
       " 'tamen,',\n",
       " 'quo',\n",
       " 'modo.',\n",
       " 'quid',\n",
       " 'sequatur,',\n",
       " 'quid',\n",
       " 'repugnet,',\n",
       " 'vident.',\n",
       " 'iam',\n",
       " 'id',\n",
       " 'ipsum',\n",
       " 'absurdum,',\n",
       " 'maximum',\n",
       " 'malum',\n",
       " 'neglegi.']"
      ]
     },
     "execution_count": 11,
     "metadata": {},
     "output_type": "execute_result"
    }
   ],
   "source": [
    "rdd_lower_split.flatMap(lambda word:word).filter(lambda word: word not in stopwords).collect()"
   ]
  },
  {
   "cell_type": "markdown",
   "id": "eb066a90",
   "metadata": {},
   "source": [
    "### Filter the words starting with ‘c’"
   ]
  },
  {
   "cell_type": "code",
   "execution_count": 12,
   "id": "33c03fab",
   "metadata": {},
   "outputs": [
    {
     "data": {
      "text/plain": [
       "['causa', 'consectetur', 'collatio', 'constructio']"
      ]
     },
     "execution_count": 12,
     "metadata": {},
     "output_type": "execute_result"
    }
   ],
   "source": [
    "rdd_lower_split.flatMap(lambda word:word).filter(lambda word:word[0]=='c').collect()"
   ]
  },
  {
   "cell_type": "markdown",
   "id": "eba39e2e",
   "metadata": {},
   "source": [
    "### Reduce the data by key and sum it (use the data from the following list)"
   ]
  },
  {
   "cell_type": "code",
   "execution_count": 13,
   "id": "f26dea46",
   "metadata": {},
   "outputs": [],
   "source": [
    "lst = [('JK', 22), ('V', 24), ('Jimin',24), ('RM', 25)\n",
    "        , ('J-Hope', 25), ('Suga', 26), ('Jin', 27)\n",
    "       , ('J-Hope', 12), ('Suga', 25), ('Jin', 34)\n",
    "       , ('JK', 32), ('V', 44), ('Jimin',14), ('RM', 35)]\n",
    "# Hint: use reduceByKey"
   ]
  },
  {
   "cell_type": "code",
   "execution_count": 14,
   "id": "04bf8a09",
   "metadata": {},
   "outputs": [
    {
     "data": {
      "text/plain": [
       "[('JK', 54),\n",
       " ('J-Hope', 37),\n",
       " ('Suga', 51),\n",
       " ('V', 68),\n",
       " ('RM', 60),\n",
       " ('Jin', 61),\n",
       " ('Jimin', 38)]"
      ]
     },
     "execution_count": 14,
     "metadata": {},
     "output_type": "execute_result"
    }
   ],
   "source": [
    "rdd_lst = sc.parallelize(lst)\n",
    "rdd_lst.reduceByKey(lambda x, y: x + y).collect()"
   ]
  },
  {
   "cell_type": "markdown",
   "id": "a4587230",
   "metadata": {},
   "source": [
    "### Creat some key value pairs RDDs"
   ]
  },
  {
   "cell_type": "code",
   "execution_count": 15,
   "id": "cfb446ee",
   "metadata": {},
   "outputs": [],
   "source": [
    "rdd1 = sc.parallelize([('a',2),('b',3)])\n",
    "rdd2 = sc.parallelize([('a',9),('b',7),('c',10)])"
   ]
  },
  {
   "cell_type": "markdown",
   "id": "98ec3168",
   "metadata": {},
   "source": [
    "### Perform Join operation on the RDDs (rdd1,rdd2)"
   ]
  },
  {
   "cell_type": "code",
   "execution_count": 16,
   "id": "6129820c",
   "metadata": {},
   "outputs": [
    {
     "data": {
      "text/plain": [
       "[('b', (3, 7)), ('a', (2, 9))]"
      ]
     },
     "execution_count": 16,
     "metadata": {},
     "output_type": "execute_result"
    }
   ],
   "source": [
    "rdd1.join(rdd2).collect()"
   ]
  },
  {
   "cell_type": "code",
   "execution_count": null,
   "id": "5fc98e9f",
   "metadata": {},
   "outputs": [],
   "source": []
  },
  {
   "cell_type": "markdown",
   "id": "197e2ce5",
   "metadata": {},
   "source": [
    "## Done !"
   ]
  },
  {
   "cell_type": "code",
   "execution_count": null,
   "id": "a1a119c3",
   "metadata": {},
   "outputs": [],
   "source": []
  }
 ],
 "metadata": {
  "kernelspec": {
   "display_name": "Python 3",
   "language": "python",
   "name": "python3"
  },
  "language_info": {
   "codemirror_mode": {
    "name": "ipython",
    "version": 3
   },
   "file_extension": ".py",
   "mimetype": "text/x-python",
   "name": "python",
   "nbconvert_exporter": "python",
   "pygments_lexer": "ipython3",
   "version": "3.8.8"
  }
 },
 "nbformat": 4,
 "nbformat_minor": 5
}
